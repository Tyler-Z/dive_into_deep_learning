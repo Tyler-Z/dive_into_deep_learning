{
 "cells": [
  {
   "cell_type": "markdown",
   "id": "30b47f79",
   "metadata": {},
   "source": [
    "# 1. 填充\n",
    "- 无填充时：\n",
    "    - 第1层输出大小 = 32 - 5 + 1 = 28\n",
    "    - 第2层输出大小 = 28 - 5 + 1 = 32 - 2 x (5-1) = 24\n",
    "    - 第3层输出大小 = 24 - 5 + 1 = 32 - 3 x (5-1) = 20\n",
    "    - 第4层输出大小 = 20 - 5 + 1 = 32 - 4 x (5-1) = 16\n",
    "    - 第5层输出大小 = 16 - 5 + 1 = 32 - 5 x (5-1) = 12\n",
    "    - 第6层输出大小 = 12 - 5 + 1 = 32 - 6 x (5-1) = 8\n",
    "    - 第7层输出大小 = 8 - 5 + 1 = 32 - 7 x (5-1) = 4\n",
    "- 为了避免网络越深，输出大小过小，解决办法：填充\n",
    "<img src=\"./pic/填充.PNG\" width=300 height=300>\n",
    "\n",
    "## 在输入周围添加额外的行/列\n",
    "- <img src=\"./pic/在输入周围添加0.PNG\" width=400 height=400>\n",
    "- 任意的边界填充，无跨步（Arbitrary padding, no strides）\n",
    "<img src=\"./pic/任意的边界填充，无跨步.gif\" width=200 height=200>\n",
    "- 半填充，无跨步（Half padding, no strides）\n",
    "<img src=\"./pic/半填充，无跨步.gif\" width=200 height=200>\n",
    "- 全填充，无跨步（Full padding, no strides）\n",
    "<img src=\"./pic/全填充，无跨步.gif\" width=200 height=200>\n",
    "\n",
    "## 填充shape\n",
    "- p为padding\n",
    "- 通过填充，输出和输入的形状不会发生变化\n",
    "- k<sub>h</sub>很少为偶数，当为偶数时，上侧多填充一行，下侧少填充一行；反之也行。\n",
    "<img src=\"./pic/填充shape.PNG\" width=300 height=300>\n",
    "- 因为padding=kernel-1，而padding是分在图片上下的，kernel为基数，padding就可以对半分。"
   ]
  },
  {
   "cell_type": "markdown",
   "id": "74fe635c",
   "metadata": {},
   "source": [
    "# 2. 步幅\n",
    "\n",
    "- 224 - 层数(5-1) = 4, 层数 = 55. \n",
    "<img src=\"./pic/步幅1.PNG\" width=400 height=400>\n",
    "- 之前输出大小与层数线性相关，步幅可以变成指数相关\n",
    "\n",
    "#### 例子\n",
    "- padding 为 2\n",
    "- 横向：宽度2，往右走2行\n",
    "- 纵向：高度3，往下走3行\n",
    "<img src=\"./pic/步幅例子.PNG\" width=400 height=400>\n",
    "\n",
    "- 没有边界填充，跨步（No padding, strides）\n",
    "<img src=\"./pic/没有边界填充，跨步.gif\" width=200 height=200>\n",
    "- 有边界填充，跨步（Padding, strides）\n",
    "<img src=\"./pic/有边界填充，跨步.gif\" width=200 height=200>\n",
    "- 有填充，跨步（输入图像变长为偶数）（Padding, strides (odd)）\n",
    "<img src=\"./pic/有填充，跨步.gif\" width=200 height=200>\n",
    "\n",
    "## 步幅输出形状\n",
    "<img src=\"./pic/步幅输出形状.PNG\" width=400 height=400>\n"
   ]
  },
  {
   "cell_type": "markdown",
   "id": "1664bddf",
   "metadata": {},
   "source": [
    "- Q：为什么通常用3x3的卷积核？3个像素的视野很小？\n",
    "- A： 第一层如果是3x3的filter的话，第二层中一块3x3的区域就包含了输入中一块5x5的区域的信息(stride=1)。假如最后一层的输出为1x1的区域，那么该区域包含整个输入信息\n",
    "\n",
    "- Q：有声明办法能让超参数也一起训练\n",
    "- A：Neural Network Architecture Search(NAS)\n",
    "\n",
    "- Q：自动训练参数，是否会更容易过拟合？\n",
    "- A：验证集设置比较好的话，可以很好的避免过拟合。验证集不好的话，容易过拟合\n",
    "\n",
    "- 3x3卷积核，10层神经网络，效果等价于5x5卷积核，5-6层神经网络。但是3x3计算更快"
   ]
  },
  {
   "cell_type": "markdown",
   "id": "a1b5ff5c",
   "metadata": {},
   "source": [
    "# 总结\n",
    "\n",
    "- 填充和步幅时卷积层的超参数（包括卷积核的大小）\n",
    "- 填充在输入周围添加额外的行/列，来控制输出形状的减少量\n",
    "    - 让输出保持不变，或者变大\n",
    "    - 当输入图片比较小时，避免卷积层减少输出，以便传入比较深的模型\n",
    "- 步幅时每次滑动核窗口时的行/列的步长，可以成倍减少输出形状\n",
    "    - 当输入图像比较大时，通过步幅能减少计算量"
   ]
  },
  {
   "cell_type": "markdown",
   "id": "28e15f16",
   "metadata": {},
   "source": [
    "# 填充核步幅的代码实现\n",
    "\n",
    "- 在所有侧边填充1个像素"
   ]
  },
  {
   "cell_type": "code",
   "execution_count": 2,
   "id": "4bebb9cf",
   "metadata": {},
   "outputs": [
    {
     "data": {
      "text/plain": [
       "torch.Size([8, 8])"
      ]
     },
     "execution_count": 2,
     "metadata": {},
     "output_type": "execute_result"
    }
   ],
   "source": [
    "import torch\n",
    "from torch import nn\n",
    "\n",
    "\n",
    "# 为了方便起见，我们定义了一个计算卷积层的函数。\n",
    "# 此函数初始化卷积层权重，并对输入和输出提高和缩减相应的维数\n",
    "def comp_conv2d(conv2d, X):\n",
    "    # 这里的（1，1）表示批量大小和通道数都是1\n",
    "    X = X.reshape((1, 1) + X.shape)    # 【在维度前面加入一个批量大小数核通道数】\n",
    "    Y = conv2d(X)\n",
    "    # 省略前两个维度：批量大小和通道\n",
    "    return Y.reshape(Y.shape[2:])\n",
    "\n",
    "# 请注意，这里每边都填充了1行和1列，因此总共添加了2行和2列\n",
    "conv2d = nn.Conv2d(1, 1, kernel_size=3, padding=1)\n",
    "X = torch.rand(size=(8, 8))\n",
    "comp_conv2d(conv2d, X).shape        # 8 - 5 + 【2】 + 1 = 8"
   ]
  },
  {
   "cell_type": "markdown",
   "id": "34ccdc48",
   "metadata": {},
   "source": [
    "- 填充不同的高度和宽度\n",
    "    - 使输出形状等于输入形状"
   ]
  },
  {
   "cell_type": "code",
   "execution_count": 3,
   "id": "098cf413",
   "metadata": {},
   "outputs": [
    {
     "data": {
      "text/plain": [
       "torch.Size([8, 8])"
      ]
     },
     "execution_count": 3,
     "metadata": {},
     "output_type": "execute_result"
    }
   ],
   "source": [
    "conv2d = nn.Conv2d(1, 1, kernel_size=(5, 3), padding=(2, 1))\n",
    "comp_conv2d(conv2d, X).shape"
   ]
  },
  {
   "cell_type": "markdown",
   "id": "43e80a8a",
   "metadata": {},
   "source": [
    "- 将高度和宽度的步幅设置为2，从而将输入的高度和宽度减半\n",
    "    - 第一个1为输入通道，第二个1为输出通道\n",
    "    - 笔记21：多输入通道与多输出通道"
   ]
  },
  {
   "cell_type": "code",
   "execution_count": 4,
   "id": "c66befd3",
   "metadata": {},
   "outputs": [
    {
     "data": {
      "text/plain": [
       "torch.Size([4, 4])"
      ]
     },
     "execution_count": 4,
     "metadata": {},
     "output_type": "execute_result"
    }
   ],
   "source": [
    "conv2d = nn.Conv2d(1, 1, kernel_size=3, padding=1, stride=2)\n",
    "comp_conv2d(conv2d, X).shape    # （8-3+2+2）/ 2 = 4.5，取整4"
   ]
  },
  {
   "cell_type": "markdown",
   "id": "bd2cccc3",
   "metadata": {},
   "source": [
    "- 一个稍微复杂的例子"
   ]
  },
  {
   "cell_type": "code",
   "execution_count": 5,
   "id": "788218c4",
   "metadata": {},
   "outputs": [
    {
     "data": {
      "text/plain": [
       "torch.Size([2, 2])"
      ]
     },
     "execution_count": 5,
     "metadata": {},
     "output_type": "execute_result"
    }
   ],
   "source": [
    "conv2d = nn.Conv2d(1, 1, kernel_size=(3, 5), padding=(0, 1), stride=(3, 4))\n",
    "comp_conv2d(conv2d, X).shape    # w: (8 - 3 + 0 + 3) / 3 = 2（取整）\n",
    "                                # h：(8 - 5 + 2 + 4) / 4 = 2"
   ]
  },
  {
   "cell_type": "code",
   "execution_count": null,
   "id": "60092837",
   "metadata": {},
   "outputs": [],
   "source": []
  }
 ],
 "metadata": {
  "kernelspec": {
   "display_name": "Python 3",
   "language": "python",
   "name": "python3"
  },
  "language_info": {
   "codemirror_mode": {
    "name": "ipython",
    "version": 3
   },
   "file_extension": ".py",
   "mimetype": "text/x-python",
   "name": "python",
   "nbconvert_exporter": "python",
   "pygments_lexer": "ipython3",
   "version": "3.8.10"
  }
 },
 "nbformat": 4,
 "nbformat_minor": 5
}
