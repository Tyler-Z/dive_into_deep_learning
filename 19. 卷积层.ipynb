{
 "cells": [
  {
   "cell_type": "markdown",
   "id": "7ef97069",
   "metadata": {},
   "source": [
    "# 分类猫和狗的图片\n",
    "\n",
    "- 3.6B参数 = 14GB \n",
    "<img src=\"./pic/分类猫和狗的图片.PNG\" width=300 height=300>\n",
    "\n",
    "## 两个原则\n",
    "- 平移不变性\n",
    "- 局部性\n",
    "\n",
    "## 重新考察全连接层\n",
    "- 空间信息，用矩阵表示\n",
    "- <img src=\"./pic/重新考察全连接层1.PNG\" width=400 height=400>\n",
    "- 原来的k,l是基于图片的绝对位置，ab是根据ij的相对位置\n",
    "\n",
    "## 原则 #1 - 平移不变性\n",
    "- 当在图片中形成一个识别器后，在一定像素大小的范围内，它都有自己的权重，当这个识别器在图片上换位置之后，他的权重应该不变\n",
    "- 卷积核不会随着位置变化而变化\n",
    "- <img src=\"./pic/平移不变性.PNG\" width=400 height=400>\n",
    "- 卷积就是weight shared全连接\n",
    "- 当模型的取值范围受限，模型的复杂度降低\n",
    "\n",
    "## 原则 #2 - 局部性\n",
    "\n",
    "- h<sub>i,j</sub>的结果只需要在x<sub>i,j</sub>输入附近的那些点\n",
    "- 当这些点与i,j的距离超过Δ时，权重为0（不再关注）。Δ为移动单位（步长stride）\n",
    "- <img src=\"./pic/局部性.PNG\" width=400 height=400>\n",
    "\n",
    "## 总结\n",
    "- 所以卷积层是一个特殊的全连接层\n",
    "- 卷积层不会像全连接层一样，随着层数的增大，而导致参数变得特别巨大\n",
    "- <img src=\"./pic/全连接层到卷积层.PNG\" width=400 height=400>\n",
    "\n",
    "## 以上只是讲解卷积操作子"
   ]
  },
  {
   "cell_type": "markdown",
   "id": "6e63745b",
   "metadata": {},
   "source": [
    "# 2. 卷积层\n",
    "<img src=\"./pic/卷积层.PNG\" width=400 height=400>\n",
    "\n",
    "\n",
    "## 二维交叉相关\n",
    "<img src=\"./pic/二维交叉相关.PNG\" width=400 height=400>\n",
    "<img src=\"./pic/二维交叉相关(卷积核).gif\" width=400 height=400>\n",
    "\n",
    "## 二维卷积层\n",
    "- w = kernel，是一个可学习的参数\n",
    "<img src=\"./pic/二维卷积层.PNG\" width=400 height=400>\n",
    "- 神经网络通过学习这样的kernel，来得到想要的输出\n",
    "<img src=\"./pic/不同卷积核的效果图.PNG\" width=400 height=400>\n",
    "\n",
    "## 交叉相关与卷积\n",
    "<img src=\"./pic/交叉相关与卷积.PNG\" width=400 height=400>\n",
    "\n",
    "## 一维和三维交叉相关\n",
    "<img src=\"./pic/一维和三维交叉相关.PNG\" width=400 height=400>\n",
    "\n",
    "\n",
    "## 总结\n",
    " \n",
    "- 卷积层将输入和核矩阵进行交叉相关，加上偏移后得到输出\n",
    "- 核矩阵和偏移是可以学习的参数\n",
    "- 核矩阵的大小是超参数\n"
   ]
  },
  {
   "cell_type": "markdown",
   "id": "08409e7f",
   "metadata": {},
   "source": [
    "# 2. 图像卷积\n",
    "\n",
    "- 互相关运算"
   ]
  },
  {
   "cell_type": "code",
   "execution_count": 1,
   "id": "14a3a471",
   "metadata": {},
   "outputs": [],
   "source": [
    "import torch\n",
    "from torch import nn\n",
    "from d2l import torch as d2l\n",
    "\n",
    "def corr2d(X, K):    # X为输入，K为核矩阵\n",
    "    \"\"\"计算二维互相关运算\"\"\"\n",
    "    h, w = K.shape    # 返回行数和列数\n",
    "    Y = torch.zeros((X.shape[0] - h + 1, X.shape[1] - w + 1))\n",
    "    # 输入的高度：X.shape[0] - h + 1\n",
    "    # 输入的宽度：X.shape[1] - w + 1\n",
    "    for i in range(Y.shape[0]):\n",
    "        for j in range(Y.shape[1]):\n",
    "            Y[i, j] = (X[i:i + h, j:j + w] * K).sum()    # 哈达玛积(不是数学上传统的矩阵乘积)，再求和\n",
    "    return Y"
   ]
  },
  {
   "cell_type": "markdown",
   "id": "fc982298",
   "metadata": {},
   "source": [
    "### 验证上述二维互相关运算的输出"
   ]
  },
  {
   "cell_type": "code",
   "execution_count": 17,
   "id": "0df190f6",
   "metadata": {},
   "outputs": [
    {
     "data": {
      "text/plain": [
       "tensor([[19., 25.],\n",
       "        [37., 43.]])"
      ]
     },
     "execution_count": 17,
     "metadata": {},
     "output_type": "execute_result"
    }
   ],
   "source": [
    "X = torch.tensor([[0.0, 1.0, 2.0], [3.0, 4.0, 5.0], [6.0, 7.0, 8.0]])\n",
    "K = torch.tensor([[0.0, 1.0], [2.0, 3.0]])\n",
    "corr2d(X, K)"
   ]
  },
  {
   "cell_type": "markdown",
   "id": "b87060bb",
   "metadata": {},
   "source": [
    "## 输入一个3个通道的张量，对应一个3维卷积核\n",
    "## 输出n个通道的张量，对应n个3维卷积核"
   ]
  },
  {
   "cell_type": "code",
   "execution_count": 26,
   "id": "eaa23171",
   "metadata": {},
   "outputs": [
    {
     "data": {
      "text/plain": [
       "(tensor([[[ 0.,  1.,  2.],\n",
       "          [ 3.,  4.,  5.],\n",
       "          [ 6.,  7.,  8.]],\n",
       " \n",
       "         [[ 9., 10., 11.],\n",
       "          [12., 13., 14.],\n",
       "          [15., 16., 17.]],\n",
       " \n",
       "         [[18., 19., 20.],\n",
       "          [21., 22., 23.],\n",
       "          [24., 25., 26.]]]),\n",
       " tensor([[[ 0.,  1.],\n",
       "          [ 2.,  3.]],\n",
       " \n",
       "         [[ 4.,  5.],\n",
       "          [ 6.,  7.]],\n",
       " \n",
       "         [[ 8.,  9.],\n",
       "          [10., 11.]]]),\n",
       " tensor([[19., 25.],\n",
       "         [37., 43.]]),\n",
       " tensor([[249., 271.],\n",
       "         [315., 337.]]),\n",
       " tensor([[767., 805.],\n",
       "         [881., 919.]]))"
      ]
     },
     "execution_count": 26,
     "metadata": {},
     "output_type": "execute_result"
    }
   ],
   "source": [
    "# 输入3维张量，输出1维张量\n",
    "\n",
    "X = torch.arange(27.).reshape(3, 3, 3)\n",
    "K = torch.arange(12.).reshape(3, 2, 2)\n",
    "output_channel = 1\n",
    "\n",
    "X, K, corr2d(X[0], K[0]) , corr2d(X[1], K[1]), corr2d(X[2], K[2])"
   ]
  },
  {
   "cell_type": "code",
   "execution_count": 27,
   "id": "236314d7",
   "metadata": {},
   "outputs": [
    {
     "data": {
      "text/plain": [
       "tensor([[1035., 1101.],\n",
       "        [1233., 1299.]])"
      ]
     },
     "execution_count": 27,
     "metadata": {},
     "output_type": "execute_result"
    }
   ],
   "source": [
    "corr2d(X[0], K[0])+corr2d(X[1], K[1])+corr2d(X[2], K[2])"
   ]
  },
  {
   "cell_type": "markdown",
   "id": "23c63bbf",
   "metadata": {},
   "source": [
    "### 实现二维卷积层"
   ]
  },
  {
   "cell_type": "code",
   "execution_count": 4,
   "id": "22c8dd5a",
   "metadata": {},
   "outputs": [],
   "source": [
    "class Conv2D(nn.Module):\n",
    "    def __init__(self, kernel_size):\n",
    "        super().__init__()\n",
    "        self.weight = nn.Parameter(torch.rand(kernel_size))\n",
    "        self.bias = nn.Parameter(torch.zeros(1))\n",
    "\n",
    "    def forward(self, x):\n",
    "        return corr2d(x, self.weight) + self.bias"
   ]
  },
  {
   "cell_type": "markdown",
   "id": "72f1e75b",
   "metadata": {},
   "source": [
    "## 卷积层的一个简单应用：通过找到像素变化的位置，来检测图像中不同颜色的边缘"
   ]
  },
  {
   "cell_type": "code",
   "execution_count": 5,
   "id": "22869d84",
   "metadata": {},
   "outputs": [
    {
     "data": {
      "text/plain": [
       "tensor([[1., 1., 0., 0., 0., 0., 1., 1.],\n",
       "        [1., 1., 0., 0., 0., 0., 1., 1.],\n",
       "        [1., 1., 0., 0., 0., 0., 1., 1.],\n",
       "        [1., 1., 0., 0., 0., 0., 1., 1.],\n",
       "        [1., 1., 0., 0., 0., 0., 1., 1.],\n",
       "        [1., 1., 0., 0., 0., 0., 1., 1.]])"
      ]
     },
     "execution_count": 5,
     "metadata": {},
     "output_type": "execute_result"
    }
   ],
   "source": [
    "X = torch.ones((6, 8))\n",
    "X[:, 2:6] = 0\n",
    "X"
   ]
  },
  {
   "cell_type": "code",
   "execution_count": 6,
   "id": "7a2e290e",
   "metadata": {},
   "outputs": [],
   "source": [
    "K = torch.tensor([[1.0, -1.0]])"
   ]
  },
  {
   "cell_type": "markdown",
   "id": "f7d08611",
   "metadata": {},
   "source": [
    "- 输出Y中的1代表从白色到黑色的边缘，-1代表从黑色到白色的边缘，其他情况的输出为 0"
   ]
  },
  {
   "cell_type": "code",
   "execution_count": 7,
   "id": "dea450bd",
   "metadata": {},
   "outputs": [
    {
     "data": {
      "text/plain": [
       "tensor([[ 0.,  1.,  0.,  0.,  0., -1.,  0.],\n",
       "        [ 0.,  1.,  0.,  0.,  0., -1.,  0.],\n",
       "        [ 0.,  1.,  0.,  0.,  0., -1.,  0.],\n",
       "        [ 0.,  1.,  0.,  0.,  0., -1.,  0.],\n",
       "        [ 0.,  1.,  0.,  0.,  0., -1.,  0.],\n",
       "        [ 0.,  1.,  0.,  0.,  0., -1.,  0.]])"
      ]
     },
     "execution_count": 7,
     "metadata": {},
     "output_type": "execute_result"
    }
   ],
   "source": [
    "Y = corr2d(X, K)\n",
    "Y"
   ]
  },
  {
   "cell_type": "markdown",
   "id": "26346ef3",
   "metadata": {},
   "source": [
    "- 学习由X生成Y的卷积核"
   ]
  },
  {
   "cell_type": "code",
   "execution_count": 10,
   "id": "13fd9242",
   "metadata": {},
   "outputs": [
    {
     "name": "stdout",
     "output_type": "stream",
     "text": [
      "epoch 2, loss 9.939\n",
      "epoch 4, loss 1.673\n",
      "epoch 6, loss 0.283\n",
      "epoch 8, loss 0.048\n",
      "epoch 10, loss 0.008\n"
     ]
    }
   ],
   "source": [
    "# 构造一个二维卷积层，它具有1个输出通道和形状为（1，2）的卷积核\n",
    "conv2d = nn.Conv2d(1,1, kernel_size=(1, 2), bias=False)\n",
    "\n",
    "# 这个二维卷积层使用四维输入和输出格式（批量大小、通道、高度、宽度），\n",
    "# 其中批量大小和通道数都为1\n",
    "X = X.reshape((1, 1, 6, 8))\n",
    "Y = Y.reshape((1, 1, 6, 7))\n",
    "lr = 3e-2  # 学习率\n",
    "\n",
    "for i in range(10):\n",
    "    Y_hat = conv2d(X)\n",
    "    loss = (Y_hat - Y) ** 2\n",
    "    conv2d.zero_grad()\n",
    "    loss.sum().backward()\n",
    "    # 迭代卷积核\n",
    "    conv2d.weight.data[:] -= lr * conv2d.weight.grad\n",
    "    if (i + 1) % 2 == 0:\n",
    "        print(f'epoch {i+1}, loss {loss.sum():.3f}')"
   ]
  },
  {
   "cell_type": "markdown",
   "id": "ef82ffb9",
   "metadata": {},
   "source": [
    "- 所学的卷积核的权重张量\n",
    "    - 几乎接近 K = torch.tensor([[1.0, -1.0]])"
   ]
  },
  {
   "cell_type": "code",
   "execution_count": 11,
   "id": "31e83b18",
   "metadata": {},
   "outputs": [
    {
     "data": {
      "text/plain": [
       "tensor([[ 0.9862, -0.9811]])"
      ]
     },
     "execution_count": 11,
     "metadata": {},
     "output_type": "execute_result"
    }
   ],
   "source": [
    "conv2d.weight.data.reshape((1, 2))"
   ]
  },
  {
   "cell_type": "code",
   "execution_count": 12,
   "id": "05007bde",
   "metadata": {},
   "outputs": [
    {
     "data": {
      "text/plain": [
       "tensor([[ 1., -1.]])"
      ]
     },
     "execution_count": 12,
     "metadata": {},
     "output_type": "execute_result"
    }
   ],
   "source": [
    "K"
   ]
  }
 ],
 "metadata": {
  "kernelspec": {
   "display_name": "Python 3",
   "language": "python",
   "name": "python3"
  },
  "language_info": {
   "codemirror_mode": {
    "name": "ipython",
    "version": 3
   },
   "file_extension": ".py",
   "mimetype": "text/x-python",
   "name": "python",
   "nbconvert_exporter": "python",
   "pygments_lexer": "ipython3",
   "version": "3.8.10"
  }
 },
 "nbformat": 4,
 "nbformat_minor": 5
}
