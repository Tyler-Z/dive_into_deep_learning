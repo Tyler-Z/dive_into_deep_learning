{
 "cells": [
  {
   "cell_type": "markdown",
   "id": "9aeb6c5a",
   "metadata": {},
   "source": [
    "# 数据操作\n",
    "\n",
    "1. 张量表示一个数值组成的数组，这个数组可能有多个维度\n",
    "2. 要改变一个张量的形状，而不改变元素数量和元素值，可以调用``reshape``函数\n",
    "3. 使用全0、全1、其他常量、或者从特定分布中随机采样的数字\n",
    "4. 通过提供包含数值的Python列表（或嵌套列表）来为所需张量中的每个元素预付确定值\n",
    "5. 常见的标准算术运算符（+ - * / 和 **）都可以被升级成为``按元素运算``\n",
    "    - ** 运算符是求幂运算\n",
    "6. 把多个张量连结在一起\n",
    "7. 通过逻辑运算符构建二元张量\n",
    "8. 对张量中的所有元素进行``求和``，会产生一个只有一个元素的张量\n",
    "9. 【最容易出错的地方】即使形状不同，任可以通过调用``广播机制(broadcasting mechanism)``来执行按元素操作\n",
    "10. 可以用``[-1]``选择最后一个元素，可以用``[1:3]``选择第二个和第三个元素"
   ]
  },
  {
   "cell_type": "code",
   "execution_count": 2,
   "id": "111c4f09",
   "metadata": {},
   "outputs": [],
   "source": [
    "import torch"
   ]
  },
  {
   "cell_type": "code",
   "execution_count": 4,
   "id": "5bd43d31",
   "metadata": {},
   "outputs": [
    {
     "name": "stdout",
     "output_type": "stream",
     "text": [
      "tensor([ 0,  1,  2,  3,  4,  5,  6,  7,  8,  9, 10, 11])\n",
      "torch.Size([12])\n",
      "torch.Size([12])\n",
      "12\n"
     ]
    }
   ],
   "source": [
    "# 1 张量表示一个数值组成的数组，这个数组可能有多个维度\n",
    "\n",
    "x = torch.arange(12)\n",
    "print(x)          # 一维，长度为12\n",
    "print(x.shape)    # 元素为1的数组\n",
    "print(x.size())\n",
    "print(x.numel())"
   ]
  },
  {
   "cell_type": "code",
   "execution_count": 5,
   "id": "e0384620",
   "metadata": {},
   "outputs": [
    {
     "data": {
      "text/plain": [
       "tensor([[ 0,  1,  2,  3],\n",
       "        [ 4,  5,  6,  7],\n",
       "        [ 8,  9, 10, 11]])"
      ]
     },
     "execution_count": 5,
     "metadata": {},
     "output_type": "execute_result"
    }
   ],
   "source": [
    "# 2 要改变一个张量的形状，而不改变元素数量和元素值，可以调用reshape函数\n",
    "\n",
    "X = x.reshape(3,4)\n",
    "X"
   ]
  },
  {
   "cell_type": "code",
   "execution_count": 6,
   "id": "f076d55a",
   "metadata": {},
   "outputs": [
    {
     "data": {
      "text/plain": [
       "tensor([[[0., 0., 0., 0.],\n",
       "         [0., 0., 0., 0.],\n",
       "         [0., 0., 0., 0.]],\n",
       "\n",
       "        [[0., 0., 0., 0.],\n",
       "         [0., 0., 0., 0.],\n",
       "         [0., 0., 0., 0.]]])"
      ]
     },
     "execution_count": 6,
     "metadata": {},
     "output_type": "execute_result"
    }
   ],
   "source": [
    "# 3 使用全0、全1、其他常量、或者从特定分布中随机采样的数字\n",
    "\n",
    "torch.zeros((2, 3, 4))"
   ]
  },
  {
   "cell_type": "code",
   "execution_count": 7,
   "id": "3df80e29",
   "metadata": {},
   "outputs": [
    {
     "data": {
      "text/plain": [
       "tensor([[[1., 1., 1., 1.],\n",
       "         [1., 1., 1., 1.],\n",
       "         [1., 1., 1., 1.]],\n",
       "\n",
       "        [[1., 1., 1., 1.],\n",
       "         [1., 1., 1., 1.],\n",
       "         [1., 1., 1., 1.]]])"
      ]
     },
     "execution_count": 7,
     "metadata": {},
     "output_type": "execute_result"
    }
   ],
   "source": [
    "torch.ones((2, 3, 4))"
   ]
  },
  {
   "cell_type": "code",
   "execution_count": 46,
   "id": "25d0244c",
   "metadata": {},
   "outputs": [
    {
     "data": {
      "text/plain": [
       "tensor([2, 2, 2, 2, 2, 2, 2, 2, 2, 2, 2, 2])"
      ]
     },
     "execution_count": 46,
     "metadata": {},
     "output_type": "execute_result"
    }
   ],
   "source": [
    "# 注意\n",
    "e = torch.arange(12)\n",
    "f = e.reshape(3,4)\n",
    "f[:] = 2\n",
    "e"
   ]
  },
  {
   "cell_type": "code",
   "execution_count": 9,
   "id": "3fdd0412",
   "metadata": {},
   "outputs": [
    {
     "name": "stdout",
     "output_type": "stream",
     "text": [
      "tensor([[2, 1, 4, 3],\n",
      "        [1, 2, 3, 4],\n",
      "        [4, 3, 2, 1]])\n",
      "torch.Size([3, 4])\n"
     ]
    }
   ],
   "source": [
    "# 4 通过提供包含数值的Python列表（或嵌套列表）来为所需张量中的每个元素预付确定值\n",
    "\n",
    "a = torch.tensor([[2,1,4,3],[1,2,3,4],[4,3,2,1]])    # list of list, 2维\n",
    "print(a)\n",
    "print(a.shape) # 2维"
   ]
  },
  {
   "cell_type": "code",
   "execution_count": 10,
   "id": "2b912c76",
   "metadata": {},
   "outputs": [
    {
     "name": "stdout",
     "output_type": "stream",
     "text": [
      "tensor([[[2, 1, 4, 3],\n",
      "         [1, 2, 3, 4],\n",
      "         [4, 3, 2, 1]]])\n",
      "torch.Size([1, 3, 4])\n"
     ]
    }
   ],
   "source": [
    "b = torch.tensor([[[2,1,4,3],[1,2,3,4],[4,3,2,1]]])    # 3维\n",
    "print(b)\n",
    "print(b.shape) # 3维"
   ]
  },
  {
   "cell_type": "code",
   "execution_count": 11,
   "id": "4d4a7972",
   "metadata": {},
   "outputs": [
    {
     "data": {
      "text/plain": [
       "(tensor([ 3.,  4.,  6., 10.]),\n",
       " tensor([-1.,  0.,  2.,  6.]),\n",
       " tensor([ 2.,  4.,  8., 16.]),\n",
       " tensor([0.5000, 1.0000, 2.0000, 4.0000]),\n",
       " tensor([ 1.,  4., 16., 64.]))"
      ]
     },
     "execution_count": 11,
     "metadata": {},
     "output_type": "execute_result"
    }
   ],
   "source": [
    "# 5 常见的标准算术运算符（+ - * / 和 **）都可以被升级成为按元素运算\n",
    "\n",
    "x = torch.tensor([1.0, 2, 4, 8])    # 1.0: 创建的是浮点元素的数组；1：整数元素数组\n",
    "y = torch.tensor([2, 2, 2, 2])\n",
    "x+y, x-y, x*y, x/y, x**y"
   ]
  },
  {
   "cell_type": "code",
   "execution_count": 12,
   "id": "fb9305ac",
   "metadata": {},
   "outputs": [
    {
     "data": {
      "text/plain": [
       "tensor([2.7183e+00, 7.3891e+00, 5.4598e+01, 2.9810e+03])"
      ]
     },
     "execution_count": 12,
     "metadata": {},
     "output_type": "execute_result"
    }
   ],
   "source": [
    "torch.exp(x)"
   ]
  },
  {
   "cell_type": "code",
   "execution_count": 8,
   "id": "6e4f6a55",
   "metadata": {},
   "outputs": [
    {
     "name": "stdout",
     "output_type": "stream",
     "text": [
      "tensor([[ 0.,  1.,  2.,  3.],\n",
      "        [ 4.,  5.,  6.,  7.],\n",
      "        [ 8.,  9., 10., 11.],\n",
      "        [ 2.,  1.,  4.,  3.],\n",
      "        [ 1.,  2.,  3.,  4.],\n",
      "        [ 4.,  3.,  2.,  1.]])\n",
      "tensor([[ 0.,  1.,  2.,  3.,  2.,  1.,  4.,  3.],\n",
      "        [ 4.,  5.,  6.,  7.,  1.,  2.,  3.,  4.],\n",
      "        [ 8.,  9., 10., 11.,  4.,  3.,  2.,  1.]])\n"
     ]
    }
   ],
   "source": [
    "# 6 把多个张量连结在一起，不改变维度\n",
    "\n",
    "X = torch.arange(12, dtype=torch.float32).reshape((3,4))\n",
    "Y = torch.tensor([[2.0, 1, 4, 3], [1, 2, 3, 4],[4, 3, 2, 1]])\n",
    "print(torch.cat((X,Y), dim=0))    # 第0维，按行合并（堆起来）\n",
    "print(torch.cat((X,Y), dim=1))    # 第1维（最后一维，-1维），按列合并（第2维（3维），dim=2）"
   ]
  },
  {
   "cell_type": "code",
   "execution_count": 7,
   "id": "90330a6f",
   "metadata": {},
   "outputs": [
    {
     "name": "stdout",
     "output_type": "stream",
     "text": [
      "tensor([[[ 0.,  1.,  2.],\n",
      "         [ 3.,  4.,  5.]],\n",
      "\n",
      "        [[ 6.,  7.,  8.],\n",
      "         [ 9., 10., 11.]],\n",
      "\n",
      "        [[12., 13., 14.],\n",
      "         [15., 16., 17.]],\n",
      "\n",
      "        [[18., 19., 20.],\n",
      "         [21., 22., 23.]]])\n",
      "tensor([[[ 0.,  1.,  2.],\n",
      "         [ 3.,  4.,  5.],\n",
      "         [12., 13., 14.],\n",
      "         [15., 16., 17.]],\n",
      "\n",
      "        [[ 6.,  7.,  8.],\n",
      "         [ 9., 10., 11.],\n",
      "         [18., 19., 20.],\n",
      "         [21., 22., 23.]]])\n",
      "tensor([[[ 0.,  1.,  2., 12., 13., 14.],\n",
      "         [ 3.,  4.,  5., 15., 16., 17.]],\n",
      "\n",
      "        [[ 6.,  7.,  8., 18., 19., 20.],\n",
      "         [ 9., 10., 11., 21., 22., 23.]]])\n"
     ]
    }
   ],
   "source": [
    "P = torch.arange(12, dtype=torch.float32).reshape((2,2,3))\n",
    "Q = torch.tensor([[[12, 13, 14],[15, 16, 17]],[[18, 19, 20],[21, 22, 23]]])\n",
    "print(torch.cat((P,Q), dim=0))    # 第0维，按行合并（堆起来）\n",
    "print(torch.cat((P,Q), dim=1))    # 第1维，将2个张量的第1维合并\n",
    "print(torch.cat((P,Q), dim=2))    # 第2维（最后一维，-1），按列合并"
   ]
  },
  {
   "cell_type": "code",
   "execution_count": 17,
   "id": "e30a3253",
   "metadata": {},
   "outputs": [
    {
     "data": {
      "text/plain": [
       "tensor([[False,  True, False,  True],\n",
       "        [False, False, False, False],\n",
       "        [False, False, False, False]])"
      ]
     },
     "execution_count": 17,
     "metadata": {},
     "output_type": "execute_result"
    }
   ],
   "source": [
    "# 7 通过逻辑运算符构建二元张量\n",
    "\n",
    "X == Y"
   ]
  },
  {
   "cell_type": "code",
   "execution_count": 10,
   "id": "32f70b3a",
   "metadata": {},
   "outputs": [
    {
     "data": {
      "text/plain": [
       "tensor([[ 0.,  1.,  2.,  3.],\n",
       "        [ 4.,  5.,  6.,  7.],\n",
       "        [ 8.,  9., 10., 11.]])"
      ]
     },
     "execution_count": 10,
     "metadata": {},
     "output_type": "execute_result"
    }
   ],
   "source": [
    "X"
   ]
  },
  {
   "cell_type": "code",
   "execution_count": 11,
   "id": "4b95b097",
   "metadata": {},
   "outputs": [
    {
     "data": {
      "text/plain": [
       "tensor(66.)"
      ]
     },
     "execution_count": 11,
     "metadata": {},
     "output_type": "execute_result"
    }
   ],
   "source": [
    "# 8 对张量中的所有元素进行求和，会产生一个只有一个元素的张量\n",
    "\n",
    "X.sum()"
   ]
  },
  {
   "cell_type": "code",
   "execution_count": 20,
   "id": "51c86d1f",
   "metadata": {},
   "outputs": [
    {
     "data": {
      "text/plain": [
       "(tensor([[0],\n",
       "         [1],\n",
       "         [2]]),\n",
       " tensor([[0, 1]]))"
      ]
     },
     "execution_count": 20,
     "metadata": {},
     "output_type": "execute_result"
    }
   ],
   "source": [
    "# 9 【最容易出错的地方】即使形状不同，任可以通过调用广播机制(broadcasting mechanism)来执行按元素操作\n",
    "a = torch.arange(3).reshape((3,1))\n",
    "b = torch.arange(2).reshape((1,2))\n",
    "a, b"
   ]
  },
  {
   "cell_type": "code",
   "execution_count": 21,
   "id": "f32d1fa4",
   "metadata": {},
   "outputs": [
    {
     "data": {
      "text/plain": [
       "tensor([[0, 1],\n",
       "        [1, 2],\n",
       "        [2, 3]])"
      ]
     },
     "execution_count": 21,
     "metadata": {},
     "output_type": "execute_result"
    }
   ],
   "source": [
    "# 把a复制成3x2矩阵：a = [[0,0],[1,1],[2,2]]\n",
    "# 把b复制成3x2矩阵：b = [[0,1],[0,1],[0,1]]\n",
    "# 复制之后，然后相加\n",
    "a + b"
   ]
  },
  {
   "cell_type": "code",
   "execution_count": 22,
   "id": "4519c5da",
   "metadata": {},
   "outputs": [
    {
     "data": {
      "text/plain": [
       "tensor([[ 0.,  1.,  2.,  3.],\n",
       "        [ 4.,  5.,  6.,  7.],\n",
       "        [ 8.,  9., 10., 11.]])"
      ]
     },
     "execution_count": 22,
     "metadata": {},
     "output_type": "execute_result"
    }
   ],
   "source": [
    "X"
   ]
  },
  {
   "cell_type": "code",
   "execution_count": 27,
   "id": "1386982d",
   "metadata": {},
   "outputs": [
    {
     "name": "stdout",
     "output_type": "stream",
     "text": [
      "tensor([ 8.,  9., 10., 11.])\n",
      "tensor([[ 4.,  5.,  6.,  7.],\n",
      "        [ 8.,  9., 10., 11.]])\n"
     ]
    }
   ],
   "source": [
    "# 10 可以用[-1]选择最后一个元素，可以用[1:3]选择第二个和第三个元素\n",
    "\n",
    "print(X[-1])    # 取值倒数第一行\n",
    "print(X[1:3])   # 取值第一行和第二行（开区间）"
   ]
  },
  {
   "cell_type": "code",
   "execution_count": 12,
   "id": "ffa36cd6",
   "metadata": {},
   "outputs": [
    {
     "data": {
      "text/plain": [
       "tensor([[ 0.,  1.,  2.,  3.],\n",
       "        [ 4.,  5.,  9.,  7.],\n",
       "        [ 8.,  9., 10., 11.]])"
      ]
     },
     "execution_count": 12,
     "metadata": {},
     "output_type": "execute_result"
    }
   ],
   "source": [
    "# 11 除读取外，还可以通过指定索引来将元素写入矩阵\n",
    "X[1, 2] = 9    # 把第一行，第二列的元素改写成【9】\n",
    "X"
   ]
  },
  {
   "cell_type": "code",
   "execution_count": 13,
   "id": "895f52ad",
   "metadata": {},
   "outputs": [
    {
     "data": {
      "text/plain": [
       "tensor([[12., 12., 12., 12.],\n",
       "        [12., 12., 12., 12.],\n",
       "        [ 8.,  9., 10., 11.]])"
      ]
     },
     "execution_count": 13,
     "metadata": {},
     "output_type": "execute_result"
    }
   ],
   "source": [
    "X[0:2, :] = 12    # 把第0行到第1行的所有值，改成【12】\n",
    "X"
   ]
  },
  {
   "cell_type": "code",
   "execution_count": 16,
   "id": "d094b16f",
   "metadata": {},
   "outputs": [
    {
     "data": {
      "text/plain": [
       "tensor([[11., 11., 11., 11.],\n",
       "        [11., 11., 11., 11.],\n",
       "        [ 8.,  9., 10., 11.]])"
      ]
     },
     "execution_count": 16,
     "metadata": {},
     "output_type": "execute_result"
    }
   ],
   "source": [
    "X[0:2] = 11\n",
    "X"
   ]
  },
  {
   "cell_type": "markdown",
   "id": "e56668d0",
   "metadata": {},
   "source": [
    "## 运行一些操作可能会导致为新结果分配内存: 避免重复复制特别大的矩阵，否则导致内存问题"
   ]
  },
  {
   "cell_type": "code",
   "execution_count": 17,
   "id": "6627de6a",
   "metadata": {},
   "outputs": [
    {
     "data": {
      "text/plain": [
       "False"
      ]
     },
     "execution_count": 17,
     "metadata": {},
     "output_type": "execute_result"
    }
   ],
   "source": [
    "\n",
    "before = id(Y)    # id类似于指针，返回python里唯一的标识号\n",
    "Y = Y + X\n",
    "id(Y) == before   # 新的Y的id与旧的Y的id不同"
   ]
  },
  {
   "cell_type": "markdown",
   "id": "a5447078",
   "metadata": {},
   "source": [
    "## 执行原地操作"
   ]
  },
  {
   "cell_type": "code",
   "execution_count": 22,
   "id": "b3211555",
   "metadata": {},
   "outputs": [
    {
     "name": "stdout",
     "output_type": "stream",
     "text": [
      "id(Z): 1877546924800\n",
      "id(Z): 1877546924800\n"
     ]
    }
   ],
   "source": [
    "\n",
    "Z = torch.zeros_like(Y)\n",
    "print('id(Z):', id(Z))\n",
    "# Z = X + Y    # 误用，地址不同   id(Z): 1877546923584    id(Z): 1877546917504\n",
    "Z[:] = X + Y\n",
    "print('id(Z):', id(Z))"
   ]
  },
  {
   "cell_type": "markdown",
   "id": "7c7b4371",
   "metadata": {},
   "source": [
    "## 如果在后续计算中没有重复使用X，我们也可以使用*X[:] = X + Y* 或 *X += Y*来减少操作的内存开销"
   ]
  },
  {
   "cell_type": "code",
   "execution_count": 23,
   "id": "38805748",
   "metadata": {},
   "outputs": [
    {
     "data": {
      "text/plain": [
       "True"
      ]
     },
     "execution_count": 23,
     "metadata": {},
     "output_type": "execute_result"
    }
   ],
   "source": [
    "before = id(X)\n",
    "X += Y\n",
    "id(X) == before"
   ]
  },
  {
   "cell_type": "markdown",
   "id": "8dacbbfb",
   "metadata": {},
   "source": [
    "## 转换为numpy张量"
   ]
  },
  {
   "cell_type": "code",
   "execution_count": 25,
   "id": "d25b8983",
   "metadata": {},
   "outputs": [
    {
     "data": {
      "text/plain": [
       "(numpy.ndarray, torch.Tensor)"
      ]
     },
     "execution_count": 25,
     "metadata": {},
     "output_type": "execute_result"
    }
   ],
   "source": [
    "A = X.numpy()\n",
    "B = torch.tensor(A)\n",
    "type(A), type(B)"
   ]
  },
  {
   "cell_type": "markdown",
   "id": "349fb738",
   "metadata": {},
   "source": [
    "## 将1维张量转换为Python标量"
   ]
  },
  {
   "cell_type": "code",
   "execution_count": 26,
   "id": "f910b086",
   "metadata": {},
   "outputs": [
    {
     "data": {
      "text/plain": [
       "(tensor([3.5000]), 3.5, 3.5, 3)"
      ]
     },
     "execution_count": 26,
     "metadata": {},
     "output_type": "execute_result"
    }
   ],
   "source": [
    "a = torch.tensor([3.5])\n",
    "a, a.item(), float(a), int(a)"
   ]
  },
  {
   "cell_type": "markdown",
   "id": "8ae3bf1d",
   "metadata": {},
   "source": [
    "# 数据预处理\n",
    "\n",
    "- 读取一个csv文件，做特征处理，成为pytorch能用的tensor"
   ]
  },
  {
   "cell_type": "markdown",
   "id": "a1376631",
   "metadata": {},
   "source": [
    "## 创建一个人工数据集，并存储在csv（逗号分割值）文件"
   ]
  },
  {
   "cell_type": "code",
   "execution_count": 37,
   "id": "609fdc48",
   "metadata": {},
   "outputs": [],
   "source": [
    "import os\n",
    "\n",
    "os.makedirs(os.path.join('..', 'data'), exist_ok=True)\n",
    "data_file = os.path.join('..', 'data', 'house_tiny.csv')\n",
    "\n",
    "with open(data_file, 'w') as f:\n",
    "    f.write('NumRooms, Alley, Price\\n')    # 列名\n",
    "    f.write('NaN, Pava, 127500\\n')    # 每行表示一个数据样本\n",
    "    f.write('2, NaN, 106000\\n')\n",
    "    f.write('4, NaN, 178100\\n')\n",
    "    f.write('NaN, NaN, 140000\\n')"
   ]
  },
  {
   "cell_type": "code",
   "execution_count": 38,
   "id": "c478f033",
   "metadata": {},
   "outputs": [
    {
     "name": "stdout",
     "output_type": "stream",
     "text": [
      "   NumRooms  Alley   Price\n",
      "0       NaN   Pava  127500\n",
      "1       2.0    NaN  106000\n",
      "2       4.0    NaN  178100\n",
      "3       NaN    NaN  140000\n"
     ]
    }
   ],
   "source": [
    "import pandas as pd\n",
    "\n",
    "data = pd.read_csv(data_file)\n",
    "print(data)"
   ]
  },
  {
   "cell_type": "markdown",
   "id": "96bf2edf",
   "metadata": {},
   "source": [
    "## 为了处理缺失的数据，典型的方法包括 插值 和 删除， 这里我们将考虑插值"
   ]
  },
  {
   "cell_type": "code",
   "execution_count": 39,
   "id": "98857a65",
   "metadata": {},
   "outputs": [
    {
     "name": "stdout",
     "output_type": "stream",
     "text": [
      "   NumRooms  Alley\n",
      "0       3.0   Pava\n",
      "1       2.0    NaN\n",
      "2       4.0    NaN\n",
      "3       3.0    NaN\n"
     ]
    },
    {
     "name": "stderr",
     "output_type": "stream",
     "text": [
      "<ipython-input-39-18c59a149c3c>:2: FutureWarning: Dropping of nuisance columns in DataFrame reductions (with 'numeric_only=None') is deprecated; in a future version this will raise TypeError.  Select only valid columns before calling the reduction.\n",
      "  inputs = inputs.fillna(inputs.mean(numeric_only=None))\n"
     ]
    }
   ],
   "source": [
    "inputs, outputs = data.iloc[:, 0:2], data.iloc[:, 2]    # 0:2 开区间，第0列：NumRooms，第1列：Alley\n",
    "inputs = inputs.fillna(inputs.mean(numeric_only=None))\n",
    "print(inputs)"
   ]
  },
  {
   "cell_type": "markdown",
   "id": "150c7047",
   "metadata": {},
   "source": [
    "### 对于 inputs 中的类别值或离散值，我们将 NaN 视为一个类别"
   ]
  },
  {
   "cell_type": "code",
   "execution_count": 44,
   "id": "558b6468",
   "metadata": {},
   "outputs": [
    {
     "name": "stdout",
     "output_type": "stream",
     "text": [
      "   NumRooms   Alley_ NaN   Alley_ Pava   Alley_nan\n",
      "0       3.0            0             1           0\n",
      "1       2.0            1             0           0\n",
      "2       4.0            1             0           0\n",
      "3       3.0            1             0           0\n"
     ]
    }
   ],
   "source": [
    "inputs = pd.get_dummies(inputs, dummy_na=True)\n",
    "print(inputs)"
   ]
  },
  {
   "cell_type": "markdown",
   "id": "39e9046f",
   "metadata": {},
   "source": [
    "## 现在 inputs 和 outputs 中的所有条目都是数值类型，他们可以转换为张量格式"
   ]
  },
  {
   "cell_type": "code",
   "execution_count": 42,
   "id": "240c47e4",
   "metadata": {},
   "outputs": [
    {
     "data": {
      "text/plain": [
       "(tensor([[3., 0., 1., 0.],\n",
       "         [2., 1., 0., 0.],\n",
       "         [4., 1., 0., 0.],\n",
       "         [3., 1., 0., 0.]], dtype=torch.float64),\n",
       " tensor([127500, 106000, 178100, 140000]))"
      ]
     },
     "execution_count": 42,
     "metadata": {},
     "output_type": "execute_result"
    }
   ],
   "source": [
    "C, d = torch.tensor(inputs.values), torch.tensor(outputs.values)\n",
    "C, d"
   ]
  },
  {
   "cell_type": "code",
   "execution_count": null,
   "id": "aed68a08",
   "metadata": {},
   "outputs": [],
   "source": []
  }
 ],
 "metadata": {
  "kernelspec": {
   "display_name": "Python 3",
   "language": "python",
   "name": "python3"
  },
  "language_info": {
   "codemirror_mode": {
    "name": "ipython",
    "version": 3
   },
   "file_extension": ".py",
   "mimetype": "text/x-python",
   "name": "python",
   "nbconvert_exporter": "python",
   "pygments_lexer": "ipython3",
   "version": "3.8.10"
  }
 },
 "nbformat": 4,
 "nbformat_minor": 5
}
