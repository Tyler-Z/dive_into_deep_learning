{
 "cells": [
  {
   "cell_type": "markdown",
   "id": "80eae1fb",
   "metadata": {},
   "source": [
    "# 线性回归的简洁实现\n",
    "\n",
    "## 通过使用深度学习框架，简洁地实现【线性回归模型】生成数据集"
   ]
  },
  {
   "cell_type": "code",
   "execution_count": 2,
   "id": "82433de5",
   "metadata": {},
   "outputs": [],
   "source": [
    "import numpy as np\n",
    "import torch\n",
    "from torch.utils import data\n",
    "from d2l import torch as d2l\n",
    "\n",
    "true_w = torch.tensor([2, -3.4])\n",
    "true_b = 4.2\n",
    "features, labels = d2l.synthetic_data(true_w, true_b,1000)"
   ]
  },
  {
   "cell_type": "markdown",
   "id": "f1ddd0d6",
   "metadata": {},
   "source": [
    "## 调用框架中现有的API来读取数据"
   ]
  },
  {
   "cell_type": "code",
   "execution_count": 3,
   "id": "d2188a34",
   "metadata": {},
   "outputs": [
    {
     "data": {
      "text/plain": [
       "[tensor([[ 0.5379, -0.7015],\n",
       "         [ 1.0574, -0.2538],\n",
       "         [ 0.4616,  0.7537],\n",
       "         [-0.5723,  0.1642],\n",
       "         [ 0.1123,  0.4096],\n",
       "         [-0.8071, -2.8755],\n",
       "         [-0.6924, -0.5492],\n",
       "         [ 0.1746, -0.7372],\n",
       "         [-0.6308,  0.4593],\n",
       "         [ 0.4383, -0.1025]]),\n",
       " tensor([[ 7.6695],\n",
       "         [ 7.1779],\n",
       "         [ 2.5575],\n",
       "         [ 2.4946],\n",
       "         [ 3.0228],\n",
       "         [12.3703],\n",
       "         [ 4.6708],\n",
       "         [ 7.0584],\n",
       "         [ 1.3677],\n",
       "         [ 5.4206]])]"
      ]
     },
     "execution_count": 3,
     "metadata": {},
     "output_type": "execute_result"
    }
   ],
   "source": [
    "def load_array(data_array, batch_size, is_train=True):\n",
    "    \"\"\"构造一个PyTorch数据迭代器\"\"\"\n",
    "    dataset = data.TensorDataset(*data_array)    # ＊号在python 语言中调用函数时参数前使用表示解包\n",
    "                                                 # 列表前加星号是把列表元素分别当做参数穿进去\n",
    "    return data.DataLoader(dataset, batch_size, shuffle=is_train)\n",
    "\n",
    "batch_size = 10\n",
    "data_iter = load_array((features, labels), batch_size)\n",
    "\n",
    "next(iter(data_iter))"
   ]
  },
  {
   "cell_type": "markdown",
   "id": "e3047937",
   "metadata": {},
   "source": [
    "## 使用框架的预定义好的层"
   ]
  },
  {
   "cell_type": "code",
   "execution_count": 6,
   "id": "0a6a6f6a",
   "metadata": {},
   "outputs": [],
   "source": [
    "# 【nn】是神经网络的缩写\n",
    "from torch import nn\n",
    "\n",
    "net = nn.Sequential(nn.Linear(2,1))\n",
    "# Sequential一个有序的容器，神经网络模块将按照在传入构造器的顺序依次被添加到计算图中执行， #  同时以神经网络模块为元素的有序字典也可以作为传入参数。"
   ]
  },
  {
   "cell_type": "markdown",
   "id": "c4bdfc12",
   "metadata": {},
   "source": [
    "## 初始化模型参数"
   ]
  },
  {
   "cell_type": "code",
   "execution_count": 7,
   "id": "da31b242",
   "metadata": {},
   "outputs": [
    {
     "data": {
      "text/plain": [
       "tensor([0.])"
      ]
     },
     "execution_count": 7,
     "metadata": {},
     "output_type": "execute_result"
    }
   ],
   "source": [
    "net[0].weight.data.normal_(0, 0.01)\n",
    "net[0].bias.data.fill_(0)"
   ]
  },
  {
   "cell_type": "markdown",
   "id": "9545106a",
   "metadata": {},
   "source": [
    "## 计算均方误差使用的是【MSELoss】类，也称平方L2 范数"
   ]
  },
  {
   "cell_type": "code",
   "execution_count": 9,
   "id": "54bcbd31",
   "metadata": {},
   "outputs": [],
   "source": [
    "loss = nn.MSELoss()"
   ]
  },
  {
   "cell_type": "markdown",
   "id": "f7ea508d",
   "metadata": {},
   "source": [
    "## 实例化【SGD】实例"
   ]
  },
  {
   "cell_type": "code",
   "execution_count": 11,
   "id": "2573fc8d",
   "metadata": {},
   "outputs": [],
   "source": [
    "trainer = torch.optim.SGD(net.parameters(), lr=0.03)"
   ]
  },
  {
   "cell_type": "markdown",
   "id": "e87165ab",
   "metadata": {},
   "source": [
    "## 训练过程代码与从0开始实现时所作的非常相似"
   ]
  },
  {
   "cell_type": "code",
   "execution_count": 12,
   "id": "e255a557",
   "metadata": {},
   "outputs": [
    {
     "name": "stdout",
     "output_type": "stream",
     "text": [
      "epoch 1, loss0.000314\n",
      "epoch 2, loss0.000099\n",
      "epoch 3, loss0.000099\n"
     ]
    }
   ],
   "source": [
    "num_epochs = 3\n",
    "for epoch in range(num_epochs):\n",
    "    for X, y in data_iter:\n",
    "        l = loss(net(X), y)    # net 本身含有w和b，所以不需要再传入了。loss里面已经求和了\n",
    "        trainer.zero_grad()\n",
    "        l.backward()\n",
    "        trainer.step()    # 更新模型\n",
    "    l = loss(net(features), labels)    # 扫完一遍数据之后，把所有的features放到net里面，与所有的labels计算一次loss，然后打印出来\n",
    "    print(f'epoch {epoch + 1}, loss{l:f}')"
   ]
  },
  {
   "cell_type": "code",
   "execution_count": null,
   "id": "dd0936fc",
   "metadata": {},
   "outputs": [],
   "source": []
  }
 ],
 "metadata": {
  "kernelspec": {
   "display_name": "Python 3",
   "language": "python",
   "name": "python3"
  },
  "language_info": {
   "codemirror_mode": {
    "name": "ipython",
    "version": 3
   },
   "file_extension": ".py",
   "mimetype": "text/x-python",
   "name": "python",
   "nbconvert_exporter": "python",
   "pygments_lexer": "ipython3",
   "version": "3.8.10"
  }
 },
 "nbformat": 4,
 "nbformat_minor": 5
}
